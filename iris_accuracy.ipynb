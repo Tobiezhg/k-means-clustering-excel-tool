{
  "nbformat": 4,
  "nbformat_minor": 0,
  "metadata": {
    "colab": {
      "provenance": [],
      "include_colab_link": true
    },
    "kernelspec": {
      "name": "python3",
      "display_name": "Python 3"
    },
    "language_info": {
      "name": "python"
    }
  },
  "cells": [
    {
      "cell_type": "markdown",
      "metadata": {
        "id": "view-in-github",
        "colab_type": "text"
      },
      "source": [
        "<a href=\"https://colab.research.google.com/github/Tobiezhg/k-means-clustering-excel-tool/blob/testing-accuracy/Iris_accuracy.ipynb\" target=\"_parent\"><img src=\"https://colab.research.google.com/assets/colab-badge.svg\" alt=\"Open In Colab\"/></a>"
      ]
    },
    {
      "cell_type": "code",
      "source": [
        "pip install pandas scikit-learn matplotlib"
      ],
      "metadata": {
        "colab": {
          "base_uri": "https://localhost:8080/"
        },
        "id": "25XIfd7m9aET",
        "outputId": "b4589c70-9b29-48f2-f2c6-58d7b2f08bbd"
      },
      "execution_count": null,
      "outputs": [
        {
          "output_type": "stream",
          "name": "stdout",
          "text": [
            "Requirement already satisfied: pandas in /usr/local/lib/python3.11/dist-packages (2.2.2)\n",
            "Requirement already satisfied: scikit-learn in /usr/local/lib/python3.11/dist-packages (1.6.1)\n",
            "Requirement already satisfied: matplotlib in /usr/local/lib/python3.11/dist-packages (3.10.0)\n",
            "Requirement already satisfied: numpy>=1.23.2 in /usr/local/lib/python3.11/dist-packages (from pandas) (1.26.4)\n",
            "Requirement already satisfied: python-dateutil>=2.8.2 in /usr/local/lib/python3.11/dist-packages (from pandas) (2.8.2)\n",
            "Requirement already satisfied: pytz>=2020.1 in /usr/local/lib/python3.11/dist-packages (from pandas) (2025.1)\n",
            "Requirement already satisfied: tzdata>=2022.7 in /usr/local/lib/python3.11/dist-packages (from pandas) (2025.1)\n",
            "Requirement already satisfied: scipy>=1.6.0 in /usr/local/lib/python3.11/dist-packages (from scikit-learn) (1.13.1)\n",
            "Requirement already satisfied: joblib>=1.2.0 in /usr/local/lib/python3.11/dist-packages (from scikit-learn) (1.4.2)\n",
            "Requirement already satisfied: threadpoolctl>=3.1.0 in /usr/local/lib/python3.11/dist-packages (from scikit-learn) (3.5.0)\n",
            "Requirement already satisfied: contourpy>=1.0.1 in /usr/local/lib/python3.11/dist-packages (from matplotlib) (1.3.1)\n",
            "Requirement already satisfied: cycler>=0.10 in /usr/local/lib/python3.11/dist-packages (from matplotlib) (0.12.1)\n",
            "Requirement already satisfied: fonttools>=4.22.0 in /usr/local/lib/python3.11/dist-packages (from matplotlib) (4.56.0)\n",
            "Requirement already satisfied: kiwisolver>=1.3.1 in /usr/local/lib/python3.11/dist-packages (from matplotlib) (1.4.8)\n",
            "Requirement already satisfied: packaging>=20.0 in /usr/local/lib/python3.11/dist-packages (from matplotlib) (24.2)\n",
            "Requirement already satisfied: pillow>=8 in /usr/local/lib/python3.11/dist-packages (from matplotlib) (11.1.0)\n",
            "Requirement already satisfied: pyparsing>=2.3.1 in /usr/local/lib/python3.11/dist-packages (from matplotlib) (3.2.1)\n",
            "Requirement already satisfied: six>=1.5 in /usr/local/lib/python3.11/dist-packages (from python-dateutil>=2.8.2->pandas) (1.17.0)\n"
          ]
        }
      ]
    },
    {
      "cell_type": "code",
      "source": [
        "# Hungarian Algorithm Implementation\n",
        "def hungarian_algorithm(A, n, m):\n",
        "    INF = sys.maxsize\n",
        "    # Potential vectors for row and column adjustments\n",
        "    u = [0] * (n + 1)\n",
        "    v = [0] * (m + 1)\n",
        "    # Assignment tracking\n",
        "    p = [0] * (m + 1)\n",
        "    way = [0] * (m + 1)\n",
        "\n",
        "    for i in range(1, n + 1):\n",
        "        p[0] = i\n",
        "        j0 = 0\n",
        "        minv = [INF] * (m + 1)  # Minimum values for potential updates\n",
        "        used = [False] * (m + 1)  # Tracks visited columns\n",
        "\n",
        "        while True:\n",
        "            used[j0] = True\n",
        "            i0 = p[j0]\n",
        "            delta = INF\n",
        "            j1 = -1\n",
        "\n",
        "            for j in range(1, m + 1):\n",
        "                if not used[j]:\n",
        "                    cur = A[i0][j] - u[i0] - v[j]  # Compute reduced cost\n",
        "                    if cur < minv[j]:\n",
        "                        minv[j] = cur\n",
        "                        way[j] = j0\n",
        "                    if minv[j] < delta:\n",
        "                        delta = minv[j]\n",
        "                        j1 = j\n",
        "\n",
        "            for j in range(m + 1):\n",
        "                if used[j]:\n",
        "                    u[p[j]] += delta  # Update potentials for assigned rows\n",
        "                    v[j] -= delta  # Update potentials for assigned columns\n",
        "                else:\n",
        "                    minv[j] -= delta  # Reduce minimum values for next iteration\n",
        "\n",
        "            j0 = j1  # Move to next column\n",
        "\n",
        "            if p[j0] == 0:\n",
        "                break\n",
        "\n",
        "        while j0:\n",
        "            j1 = way[j0]\n",
        "            p[j0] = p[j1]\n",
        "            j0 = j1\n",
        "\n",
        "    # Return final assignments\n",
        "    return p[1:]"
      ],
      "metadata": {
        "id": "R58_N7v56sKM"
      },
      "execution_count": null,
      "outputs": []
    },
    {
      "cell_type": "code",
      "execution_count": null,
      "metadata": {
        "id": "hsOOJMRJaoDr"
      },
      "outputs": [],
      "source": [
        "import numpy as np\n",
        "import pandas as pd\n",
        "import matplotlib.pyplot as plt\n",
        "from sklearn.cluster import KMeans\n",
        "from sklearn.preprocessing import StandardScaler\n",
        "from sklearn.metrics import silhouette_score\n",
        "from scipy.optimize import linear_sum_assignment\n",
        "import sys\n",
        "import time"
      ]
    },
    {
      "cell_type": "code",
      "source": [
        "# Start measuring total execution time\n",
        "start_time = time.time()"
      ],
      "metadata": {
        "id": "fZATfRWf8Vsq"
      },
      "execution_count": null,
      "outputs": []
    },
    {
      "cell_type": "code",
      "source": [
        "# Load dataset from CSV file\n",
        "file_path = \"iris_dataset.csv\"\n",
        "df_numeric = pd.read_csv(file_path)\n",
        "\n",
        "# Display first few rows\n",
        "print(df_numeric.head())"
      ],
      "metadata": {
        "colab": {
          "base_uri": "https://localhost:8080/"
        },
        "id": "rWTdIB7-9mV_",
        "outputId": "8c8b3e3b-cbd9-4660-f8a0-d2ae88ee93c5"
      },
      "execution_count": null,
      "outputs": [
        {
          "output_type": "stream",
          "name": "stdout",
          "text": [
            "   sepal_length  sepal_width  petal_length  petal_width species\n",
            "0           5.1          3.5           1.4          0.2  setosa\n",
            "1           4.9          3.0           1.4          0.2  setosa\n",
            "2           4.7          3.2           1.3          0.2  setosa\n",
            "3           4.6          3.1           1.5          0.2  setosa\n",
            "4           5.0          3.6           1.4          0.2  setosa\n"
          ]
        }
      ]
    },
    {
      "cell_type": "code",
      "source": [
        "# Select numeric columns\n",
        "numeric_columns = df_numeric.select_dtypes(include=[np.number]).columns  # Identify numeric columns\n",
        "\n",
        "# Standardize only the numeric columns\n",
        "scaler = StandardScaler()\n",
        "X_scaled = scaler.fit_transform(df_numeric[numeric_columns])  # Scale only numeric column\n",
        "\n",
        "print(\"Preprocessed Data Shape (including species):\", df_numeric.shape)\n",
        "print(print(df_numeric.columns))"
      ],
      "metadata": {
        "colab": {
          "base_uri": "https://localhost:8080/"
        },
        "id": "Vl1vy4sV-EeG",
        "outputId": "1effde6a-e39e-4dba-e3a1-3eeb7d48a89d"
      },
      "execution_count": null,
      "outputs": [
        {
          "output_type": "stream",
          "name": "stdout",
          "text": [
            "Preprocessed Data Shape (including species): (150, 5)\n",
            "Index(['sepal_length', 'sepal_width', 'petal_length', 'petal_width',\n",
            "       'species'],\n",
            "      dtype='object')\n",
            "None\n"
          ]
        }
      ]
    },
    {
      "cell_type": "code",
      "source": [
        "# Measure time for silhouette score calculation\n",
        "silhouette_start = time.time()"
      ],
      "metadata": {
        "id": "SSlD6vhc8gSD"
      },
      "execution_count": null,
      "outputs": []
    },
    {
      "cell_type": "code",
      "source": [
        "use_silhouette = True  # Toggle: True to use silhouette scores; False to use fixed number of clusters\n",
        "cluster_range = range(3, 6)  # Range for silhouette score calculation (from GUI input)\n",
        "n_init = 10  # Number of re-runs for K-Means\n",
        "max_iter = 300  # Maximum iterations for K-Means\n",
        "\n",
        "# To store silhouette scores\n",
        "silhouette_results = []\n",
        "\n",
        "if use_silhouette:\n",
        "    print(\"Calculating silhouette scores to determine the optimal number of clusters...\")\n",
        "\n",
        "    # Loop through each possible number of clusters in the range\n",
        "    for k in cluster_range:\n",
        "        # Run K-Means with random/k-mean++/sequenttial initialization\n",
        "        kmeans = KMeans(n_clusters=k, init=\"k-means++\", n_init=n_init, max_iter=max_iter, random_state=None)\n",
        "        kmeans.fit(X_scaled)  # Fit to the scaled data\n",
        "\n",
        "        # Compute Silhouette Score\n",
        "        score = silhouette_score(X_scaled, kmeans.labels_)\n",
        "        silhouette_results.append((k, score))\n",
        "        print(f\"Clusters: {k}, Silhouette Score: {score}\")\n",
        "\n",
        "    # Select the number of clusters with the highest silhouette score\n",
        "    best_k, best_score = max(silhouette_results, key=lambda x: x[1])\n",
        "    print(f\"Best number of clusters: {best_k}, Silhouette Score: {best_score}\")\n",
        "\n",
        "else:\n",
        "    # Use a fixed number of clusters\n",
        "    best_k = 3\n"
      ],
      "metadata": {
        "colab": {
          "base_uri": "https://localhost:8080/"
        },
        "id": "ZwGRq0ivYro9",
        "outputId": "149d0796-e2d5-410c-d3d9-9fa0b5035959"
      },
      "execution_count": null,
      "outputs": [
        {
          "output_type": "stream",
          "name": "stdout",
          "text": [
            "Calculating silhouette scores to determine the optimal number of clusters...\n",
            "Clusters: 3, Silhouette Score: 0.45840087099074767\n",
            "Clusters: 4, Silhouette Score: 0.3887799827106933\n",
            "Clusters: 5, Silhouette Score: 0.3516422319268987\n",
            "Best number of clusters: 3, Silhouette Score: 0.45840087099074767\n"
          ]
        }
      ]
    },
    {
      "cell_type": "code",
      "source": [
        "silhouette_end = time.time()\n",
        "print(f\"Silhouette score calculation time: {silhouette_end - silhouette_start:.4f} seconds\")"
      ],
      "metadata": {
        "colab": {
          "base_uri": "https://localhost:8080/"
        },
        "id": "wMxBmyFz8j4R",
        "outputId": "e611824f-ea13-44c8-f8fe-bbe4ec26d40f"
      },
      "execution_count": null,
      "outputs": [
        {
          "output_type": "stream",
          "name": "stdout",
          "text": [
            "Silhouette score calculation time: 0.0834 seconds\n"
          ]
        }
      ]
    },
    {
      "cell_type": "code",
      "source": [
        "# Measure time for K-means clustering\n",
        "kmeans_start = time.time()"
      ],
      "metadata": {
        "id": "UKUBiZPG8mSP"
      },
      "execution_count": null,
      "outputs": []
    },
    {
      "cell_type": "code",
      "source": [
        "# Run K-Means with the selected number of clusters (`best_k`)\n",
        "results = []  # To store results of each run\n",
        "best_inertia = float('inf')  # To track the best run\n",
        "best_labels = None  # To track the best cluster labels\n",
        "best_run = None  # To track which run was the best\n",
        "\n",
        "for run in range(10):\n",
        "    print(f\"Run {run + 1}:\")\n",
        "\n",
        "    # Run K-Means with random/k-mean++/sequential initialization\n",
        "    kmeans = KMeans(n_clusters=best_k, init=\"k-means++\", n_init=1, max_iter=max_iter, random_state=None)\n",
        "    kmeans.fit(X_scaled)\n",
        "\n",
        "    # Store results (e.g., inertia and cluster centers)\n",
        "    results.append({\n",
        "        \"run\": run + 1,\n",
        "        \"inertia\": kmeans.inertia_,\n",
        "        \"cluster_centers\": kmeans.cluster_centers_,\n",
        "        \"labels\": kmeans.labels_,\n",
        "    })\n",
        "\n",
        "    # Check if this run is the best (lowest inertia)\n",
        "    if kmeans.inertia_ < best_inertia:\n",
        "        best_inertia = kmeans.inertia_\n",
        "        best_labels = kmeans.labels_\n",
        "        best_run = run + 1\n",
        "\n",
        "# After the loop, assign the best cluster labels to the DataFrame\n",
        "df_numeric[\"Cluster\"] = best_labels\n",
        "\n",
        "print(f\"Best run: {best_run} with inertia: {best_inertia}\")"
      ],
      "metadata": {
        "colab": {
          "base_uri": "https://localhost:8080/"
        },
        "id": "rmc4SWY7LXiW",
        "outputId": "b414f8b2-6390-4d4f-91ea-58e473e5af07"
      },
      "execution_count": null,
      "outputs": [
        {
          "output_type": "stream",
          "name": "stdout",
          "text": [
            "Run 1:\n",
            "Run 2:\n",
            "Run 3:\n",
            "Run 4:\n",
            "Run 5:\n",
            "Run 6:\n",
            "Run 7:\n",
            "Run 8:\n",
            "Run 9:\n",
            "Run 10:\n",
            "Best run: 2 with inertia: 140.96581663074699\n"
          ]
        }
      ]
    },
    {
      "cell_type": "code",
      "source": [
        "kmeans_end = time.time()\n",
        "print(f\"K-means clustering time: {kmeans_end - kmeans_start:.4f} seconds\")"
      ],
      "metadata": {
        "colab": {
          "base_uri": "https://localhost:8080/"
        },
        "id": "sgCl9pNy8rDp",
        "outputId": "08ef8e98-45e6-43a9-8108-8f57111a916b"
      },
      "execution_count": null,
      "outputs": [
        {
          "output_type": "stream",
          "name": "stdout",
          "text": [
            "K-means clustering time: 0.0491 seconds\n"
          ]
        }
      ]
    },
    {
      "cell_type": "code",
      "source": [
        "# Measure time for Hungarian algorithm\n",
        "hungarian_start = time.time()"
      ],
      "metadata": {
        "id": "J34oGqGA8tRs"
      },
      "execution_count": null,
      "outputs": []
    },
    {
      "cell_type": "code",
      "source": [
        "# Create cost matrix for Hungarian Algorithm\n",
        "# Rows = true labels, Columns = predicted clusters\n",
        "true_labels = df_numeric[\"species\"].unique()\n",
        "clusters = range(best_k)\n",
        "cost_matrix = np.zeros((len(true_labels), best_k))\n",
        "\n",
        "for i, label in enumerate(true_labels):\n",
        "    for j in clusters:\n",
        "        cost_matrix[i, j] = -len(df_numeric[(df_numeric[\"species\"] == label) & (df_numeric[\"Cluster\"] == j)])\n",
        "\n",
        "# Apply Hungarian Algorithm for optimal cluster assignment\n",
        "row_ind, col_ind = linear_sum_assignment(cost_matrix)\n",
        "\n",
        "# Map clusters to true labels based on Hungarian Algorithm output\n",
        "cluster_to_label = {cluster: true_labels[row] for row, cluster in zip(row_ind, col_ind)}\n",
        "df_numeric[\"Assigned_Label\"] = df_numeric[\"Cluster\"].map(cluster_to_label)\n",
        "\n",
        "# Display the Hungarian algorithm cluster assignment results\n",
        "print(\"Mapping of clusters to true labels based on Hungarian Algorithm:\")\n",
        "print(cluster_to_label)\n",
        "\n",
        "# Display the DataFrame with 'Cluster', 'Assigned_Label', and comparison to true labels\n",
        "print(\"\\nDataFrame Results:\")\n",
        "print(df_numeric[[\"species\", \"Cluster\", \"Assigned_Label\"]].head())"
      ],
      "metadata": {
        "colab": {
          "base_uri": "https://localhost:8080/"
        },
        "id": "NA1hqclK7D8W",
        "outputId": "77a048b9-f7d0-46c7-8990-1fd881672090"
      },
      "execution_count": null,
      "outputs": [
        {
          "output_type": "stream",
          "name": "stdout",
          "text": [
            "Mapping of clusters to true labels based on Hungarian Algorithm:\n",
            "{0: 'setosa', 2: 'versicolor', 1: 'virginica'}\n",
            "\n",
            "DataFrame Results:\n",
            "  species  Cluster Assigned_Label\n",
            "0  setosa        0         setosa\n",
            "1  setosa        0         setosa\n",
            "2  setosa        0         setosa\n",
            "3  setosa        0         setosa\n",
            "4  setosa        0         setosa\n"
          ]
        }
      ]
    },
    {
      "cell_type": "code",
      "source": [
        "hungarian_end = time.time()\n",
        "print(f\"Hungarian algorithm time: {hungarian_end - hungarian_start:.4f} seconds\")"
      ],
      "metadata": {
        "colab": {
          "base_uri": "https://localhost:8080/"
        },
        "id": "yhFfhx0M8xcS",
        "outputId": "f38ad54d-e44b-4f89-b868-50583dc11518"
      },
      "execution_count": null,
      "outputs": [
        {
          "output_type": "stream",
          "name": "stdout",
          "text": [
            "Hungarian algorithm time: 0.0282 seconds\n"
          ]
        }
      ]
    },
    {
      "cell_type": "code",
      "source": [
        "# Measure time for cluster-to-species mapping and match column creation\n",
        "mapping_start = time.time()"
      ],
      "metadata": {
        "id": "DKy9sD4G9TBY"
      },
      "execution_count": null,
      "outputs": []
    },
    {
      "cell_type": "code",
      "source": [
        "# Ensure 'Cluster' column is in the main DataFrame (df)\n",
        "df_numeric[\"Cluster\"] = df_numeric[\"Cluster\"]\n",
        "\n",
        "# Step 1: Establish mappings of clusters to species based on the most frequent assignments\n",
        "correct_assignment = {}\n",
        "k = df_numeric[\"Cluster\"].nunique()  # Automatically determine the number of clusters\n",
        "\n",
        "for cluster_label in range(k):  # Loop through each cluster\n",
        "    # Filter for all rows in the current cluster\n",
        "    cluster_points = df_numeric[df_numeric[\"Cluster\"] == cluster_label]\n",
        "\n",
        "    # Handle empty clusters\n",
        "    if cluster_points.empty:\n",
        "        print(f\"Cluster {cluster_label} is empty. Skipping...\")\n",
        "        continue\n",
        "\n",
        "    # Identify the most common species in the cluster\n",
        "    most_common_species = cluster_points[\"species\"].mode()\n",
        "\n",
        "    # Handle ties in mode\n",
        "    if len(most_common_species) > 1:\n",
        "        print(f\"Warning: Cluster {cluster_label} has multiple modes. Using the first one.\")\n",
        "\n",
        "    # Map this cluster to the most frequent species\n",
        "    correct_assignment[cluster_label] = most_common_species.iloc[0]\n",
        "\n",
        "# Step 2: Create a column mapping clusters to the correct species\n",
        "df_numeric[\"Assigned_Cluster\"] = df_numeric[\"Cluster\"].map(correct_assignment)\n",
        "\n",
        "# Step 3: Create a match column to indicate if the cluster assignment matches the mapped species\n",
        "df_numeric[\"Match\"] = df_numeric[\"species\"] == df_numeric[\"Assigned_Cluster\"]"
      ],
      "metadata": {
        "id": "EH3l29Z9-75k"
      },
      "execution_count": null,
      "outputs": []
    },
    {
      "cell_type": "code",
      "source": [
        "mapping_end = time.time()\n",
        "print(f\"Cluster-to-species mapping and match column creation time: {mapping_end - mapping_start:.4f} seconds\")"
      ],
      "metadata": {
        "colab": {
          "base_uri": "https://localhost:8080/"
        },
        "id": "LHGODxV_9VwX",
        "outputId": "91e61a27-4aa5-43a1-cbcf-921efca6f88c"
      },
      "execution_count": null,
      "outputs": [
        {
          "output_type": "stream",
          "name": "stdout",
          "text": [
            "Cluster-to-species mapping and match column creation time: 0.0300 seconds\n"
          ]
        }
      ]
    },
    {
      "cell_type": "code",
      "source": [
        "# Measure time for WCSS computation\n",
        "wcss_start = time.time()"
      ],
      "metadata": {
        "id": "B97YJukc9GhG"
      },
      "execution_count": null,
      "outputs": []
    },
    {
      "cell_type": "code",
      "source": [
        "# Compute WCSS for different values of k\n",
        "wcss = []\n",
        "k_values = range(1, 11)  # Testing k from 1 to 10\n",
        "\n",
        "for k in k_values:\n",
        "    kmeans = KMeans(n_clusters=k, random_state=42, n_init=10)\n",
        "    kmeans.fit(X_scaled)  # Use standardized data\n",
        "    wcss.append(kmeans.inertia_)  # WCSS (sum of squared distances)\n",
        "\n",
        "# Display WCSS values\n",
        "print(\"\\nWCSS values for different k:\")\n",
        "for k, inertia in zip(k_values, wcss):\n",
        "    print(f\"k = {k}, WCSS = {inertia:.4f}\")\n"
      ],
      "metadata": {
        "id": "PVg1QMpj_F2D",
        "colab": {
          "base_uri": "https://localhost:8080/"
        },
        "outputId": "4fa81484-9d0e-4140-d54a-4357fb7e5672"
      },
      "execution_count": null,
      "outputs": [
        {
          "output_type": "stream",
          "name": "stdout",
          "text": [
            "\n",
            "WCSS values for different k:\n",
            "k = 1, WCSS = 600.0000\n",
            "k = 2, WCSS = 223.7320\n",
            "k = 3, WCSS = 140.9658\n",
            "k = 4, WCSS = 114.6179\n",
            "k = 5, WCSS = 91.2954\n",
            "k = 6, WCSS = 81.7566\n",
            "k = 7, WCSS = 71.3198\n",
            "k = 8, WCSS = 62.6518\n",
            "k = 9, WCSS = 55.2618\n",
            "k = 10, WCSS = 50.6232\n"
          ]
        }
      ]
    },
    {
      "cell_type": "code",
      "source": [
        "wcss_end = time.time()\n",
        "print(f\"WCSS computation time: {wcss_end - wcss_start:.4f} seconds\")"
      ],
      "metadata": {
        "colab": {
          "base_uri": "https://localhost:8080/"
        },
        "id": "TahMZ5Q29LNA",
        "outputId": "6114c865-ee79-43db-cd2c-c16d4b29ceb2"
      },
      "execution_count": null,
      "outputs": [
        {
          "output_type": "stream",
          "name": "stdout",
          "text": [
            "WCSS computation time: 0.2772 seconds\n"
          ]
        }
      ]
    },
    {
      "cell_type": "code",
      "source": [
        "# Measure time for accuracy calculation\n",
        "accuracy_start = time.time()"
      ],
      "metadata": {
        "id": "e9GYxiN083g1"
      },
      "execution_count": null,
      "outputs": []
    },
    {
      "cell_type": "code",
      "source": [
        "# Step 4: Compute the accuracy\n",
        "total_observations = len(df_numeric)  # Total data points\n",
        "\n",
        "# Validation: Ensure 'Match' column exists\n",
        "if \"Match\" not in df_numeric.columns:\n",
        "    raise ValueError(\"The 'Match' column is missing from the DataFrame. Ensure earlier steps were executed correctly.\")\n",
        "\n",
        "# Validation: Ensure 'Match' column is Boolean\n",
        "if not df_numeric[\"Match\"].dtype == bool:\n",
        "    raise TypeError(\"The 'Match' column must contain Boolean values (True/False).\")\n",
        "\n",
        "# Handle edge case for empty DataFrame\n",
        "if total_observations == 0:\n",
        "    raise ValueError(\"The DataFrame is empty; accuracy cannot be computed.\")\n",
        "\n",
        "# Calculate accuracy\n",
        "df_numeric[\"Match\"] = df_numeric[\"species\"] == df_numeric[\"Assigned_Label\"]\n",
        "accuracy = df_numeric[\"Match\"].mean()\n",
        "print(f\"Clustering Accuracy after Hungarian Algorithm: {accuracy:.4f}\")\n",
        "\n",
        "# Display the updated DataFrame to inspect results\n",
        "print(df_numeric[[\"Cluster\", \"Assigned_Cluster\", \"Match\", \"species\"]].head())  # Show relevant columns only"
      ],
      "metadata": {
        "colab": {
          "base_uri": "https://localhost:8080/"
        },
        "id": "j-T28yNCAh0z",
        "outputId": "5d182ebf-678d-4b89-abb2-9519f275af16"
      },
      "execution_count": null,
      "outputs": [
        {
          "output_type": "stream",
          "name": "stdout",
          "text": [
            "Clustering Accuracy after Hungarian Algorithm: 0.8333\n",
            "   Cluster Assigned_Cluster  Match species\n",
            "0        0           setosa   True  setosa\n",
            "1        0           setosa   True  setosa\n",
            "2        0           setosa   True  setosa\n",
            "3        0           setosa   True  setosa\n",
            "4        0           setosa   True  setosa\n"
          ]
        }
      ]
    },
    {
      "cell_type": "code",
      "source": [
        "accuracy_end = time.time()\n",
        "print(f\"Accuracy calculation time: {accuracy_end - accuracy_start:.4f} seconds\")"
      ],
      "metadata": {
        "colab": {
          "base_uri": "https://localhost:8080/"
        },
        "id": "glNzfUiS82Oi",
        "outputId": "e033f682-29fc-46a2-cc14-9dc3538515de"
      },
      "execution_count": null,
      "outputs": [
        {
          "output_type": "stream",
          "name": "stdout",
          "text": [
            "Accuracy calculation time: 0.0450 seconds\n"
          ]
        }
      ]
    },
    {
      "cell_type": "code",
      "source": [
        "# End measuring total execution time\n",
        "end_time = time.time()\n",
        "print(f\"\\nTotal execution time: {end_time - start_time:.4f} seconds\")"
      ],
      "metadata": {
        "colab": {
          "base_uri": "https://localhost:8080/"
        },
        "id": "QVIoUTCR89JN",
        "outputId": "874dbbe5-126d-48f7-fa58-1d8d0cdf24a2"
      },
      "execution_count": null,
      "outputs": [
        {
          "output_type": "stream",
          "name": "stdout",
          "text": [
            "\n",
            "Total execution time: 0.6146 seconds\n"
          ]
        }
      ]
    }
  ]
}
